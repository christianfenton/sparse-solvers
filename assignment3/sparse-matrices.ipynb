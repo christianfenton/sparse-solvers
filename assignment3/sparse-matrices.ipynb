{
 "cells": [
  {
   "cell_type": "markdown",
   "id": "9ca1e964",
   "metadata": {},
   "source": [
    "# Sparse matrices"
   ]
  },
  {
   "cell_type": "code",
   "execution_count": 1,
   "id": "2543d0da",
   "metadata": {},
   "outputs": [],
   "source": [
    "import numpy as np\n",
    "import scipy.sparse as sps\n",
    "from matplotlib import pyplot as plt\n",
    "from scipy.sparse.linalg import LinearOperator\n",
    "import numba\n",
    "import time\n",
    "from timeit import timeit\n",
    "from scipy.sparse.linalg import cg\n",
    "from scipy.sparse.linalg import gmres\n",
    "%matplotlib inline"
   ]
  },
  {
   "cell_type": "markdown",
   "id": "b8bc853d",
   "metadata": {},
   "source": [
    "## Part 1\n",
    "\n",
    "Scipy allows you to define your own objects that can be used with their sparse solvers. This is my version of a CSR matrix format to use with the Scipy solvers."
   ]
  },
  {
   "cell_type": "code",
   "execution_count": 2,
   "id": "f5ca75e7",
   "metadata": {},
   "outputs": [],
   "source": [
    "class CSRMatrix(LinearOperator):\n",
    "    def __init__(self, coo_matrix):\n",
    "        self.shape = coo_matrix.shape\n",
    "        self.dtype = coo_matrix.dtype\n",
    "        \n",
    "        if len(coo_matrix.data) == 0:\n",
    "            print('Error: no data in matrix')\n",
    "            return\n",
    "        \n",
    "        lst = sorted(list(zip(coo_matrix.row, coo_matrix.col, coo_matrix.data)), # sorting by rows and columns\n",
    "                     key = lambda entry: (entry[0], entry[1]))\n",
    "        coo_sorted = list(zip(*lst)) # unzipping back into three lists of rows, cols, data\n",
    "        \n",
    "        # compute indptr\n",
    "        counts = np.bincount(coo_sorted[0])\n",
    "        indptr = np.zeros(self.shape[0]+1, dtype=int)\n",
    "        for i in range(self.shape[0]+1):\n",
    "            indptr[i] = np.sum(counts[:i])\n",
    "        self.indptr = indptr\n",
    "        self.indices = coo_sorted[1] # indices = columns in CSR format\n",
    "        self.data = coo_sorted[2]\n",
    "        \n",
    "    def add_rows(self, rowdatA, rowindA, rowdatB, rowindB):\n",
    "        '''add rows of two CSR matrices together'''\n",
    "        if len(rowdatA) == 0: # in case an empty row is passed as an argument\n",
    "            return rowdatB, rowindB\n",
    "        elif len(rowdatB) == 0:\n",
    "            return rowdatA, rowindA\n",
    "        elif len(rowdatA) == 0 and len(rowdatB) == 0:\n",
    "            return []\n",
    "\n",
    "        set1 = list(zip(rowdatA, rowindA))\n",
    "        set2 = list(zip(rowdatB, rowindB))\n",
    "        lst = sorted(np.append(set1, set2, axis=0), key = lambda entry: entry[1]) # join and sort matrix by index\n",
    "        joined_data, joined_indices = list(zip(*lst)) # unzip\n",
    "        new_indices, counts = np.unique(joined_indices, return_counts=True)\n",
    "        new_data = np.zeros(len(new_indices))\n",
    "\n",
    "        j = 0 # initialising index\n",
    "        for i in range(len(counts)):\n",
    "            if counts[i] == 2:\n",
    "                new_data[i] = joined_data[j] + joined_data[j+1]\n",
    "                j += 2\n",
    "            else: \n",
    "                new_data[i] = joined_data[j]\n",
    "                j += 1\n",
    "        return new_data, new_indices\n",
    "        \n",
    "    def __add__(self, other):\n",
    "        \"\"\"\n",
    "        Add the CSR matrix other to this matrix.\n",
    "        Returns result as a Scipy CSR matrix. \n",
    "        \"\"\"\n",
    "        datA = self.data; indA = self.indices; indptrA = self.indptr\n",
    "        datB = other.data; indB = other.indices; indptrB = other.indptr\n",
    "        datC = []; indC = []; indptrC = [0]\n",
    "        for i in range(self.shape[0]): # loop over all rows\n",
    "            # slice data and indices that correspond to one row r\n",
    "            rDatA = datA[indptrA[i]:indptrA[i+1]]; rIndA = indA[indptrA[i]:indptrA[i+1]]\n",
    "            rDatB = datB[indptrB[i]:indptrB[i+1]]; rIndB = indB[indptrB[i]:indptrB[i+1]]\n",
    "            rDatC, rIndC = self.add_rows(rDatA, rIndA, rDatB, rIndB)\n",
    "            datC.extend(rDatC)\n",
    "            indC.extend(rIndC)\n",
    "            indptrC.append(len(rIndC)+indptrC[i])\n",
    "#         return datC, indC, indptrC\n",
    "        return sps.csr_matrix((datC, indC, indptrC), shape=self.shape)\n",
    "    \n",
    "#     @numba.jit(nopython=True, parallel=True)\n",
    "    def _matvec(self, vector):\n",
    "        \"\"\"Compute a matrix-vector product.\"\"\"\n",
    "        mv = np.zeros((self.shape[0],1), dtype=np.float64)\n",
    "        for i in range(self.shape[0]): # loop over all rows of matrix\n",
    "            rdata = self.data[self.indptr[i]:self.indptr[i+1]] # slice data and indices that correspond to one row\n",
    "            rindices = self.indices[self.indptr[i]:self.indptr[i+1]]\n",
    "            for j in range(len(rdata)):\n",
    "                mv[i] += rdata[j] * vector[rindices[j]]\n",
    "        return mv\n",
    "            \n",
    "            "
   ]
  },
  {
   "cell_type": "code",
   "execution_count": 3,
   "id": "5ed18a3c",
   "metadata": {},
   "outputs": [
    {
     "name": "stdout",
     "output_type": "stream",
     "text": [
      "iteration 0 \n",
      " m, n: 184, 316\n",
      "iteration 5 \n",
      " m, n: 553, 654\n",
      "iteration 10 \n",
      " m, n: 822, 275\n",
      "iteration 15 \n",
      " m, n: 329, 141\n",
      "CSR CONVERSION TEST PASSED\n",
      "\n",
      "iteration 0 \n",
      " m, n: 258, 832\n",
      "iteration 5 \n",
      " m, n: 355, 159\n",
      "iteration 10 \n",
      " m, n: 740, 114\n",
      "iteration 15 \n",
      " m, n: 45, 473\n",
      "__ADD__ METHOD TEST PASSED\n",
      "\n",
      "iteration 0 \n",
      " m, n: 918, 182\n",
      "iteration 5 \n",
      " m, n: 345, 795\n",
      "iteration 10 \n",
      " m, n: 688, 812\n",
      "iteration 15 \n",
      " m, n: 631, 409\n",
      "_matvec TEST PASSED\n"
     ]
    }
   ],
   "source": [
    "###################################################################################################################\n",
    "                                        # TESTING CSR CONVERSION #\n",
    "###################################################################################################################\n",
    "ntests = 20\n",
    "for it in range(ntests):\n",
    "    m = np.random.randint(2,1000); n = np.random.randint(2,1000)\n",
    "    if it%5 ==0 :\n",
    "        print(f'iteration {it} \\n', f'm, n: {m}, {n}')\n",
    "    A = sps.random(m, n) # random sparse matrix\n",
    "    A_coo = sps.coo_matrix(A)\n",
    "    A_csr = CSRMatrix(A_coo) # using my implementation\n",
    "    d, i, p = (A_csr.data, A_csr.indices, A_csr.indptr) # my data, indices and indptr\n",
    "    actual_csr = A_coo.tocsr() # using numpy implementation\n",
    "    dt, it, pt = (actual_csr.data, actual_csr.indices, actual_csr.indptr) # true data, indices and indptr\n",
    "    assert np.allclose(d, dt) and np.allclose(i, it) and np.allclose(p, pt)\n",
    "print('CSR CONVERSION TEST PASSED\\n')\n",
    "\n",
    "\n",
    "\n",
    "###################################################################################################################\n",
    "                                        # TESTING __ADD__ #\n",
    "###################################################################################################################\n",
    "for it in range(ntests):\n",
    "    m = np.random.randint(10,1000); n = np.random.randint(10,1000)\n",
    "    if it%5 ==0 :\n",
    "        print(f'iteration {it} \\n', f'm, n: {m}, {n}')\n",
    "    A = sps.random(m, n); B = sps.random(m, n)# random sparse matrices\n",
    "    A_coo = sps.coo_matrix(A); B_coo = sps.coo_matrix(B)\n",
    "    A_csr = CSRMatrix(A_coo); B_csr = CSRMatrix(B_coo)\n",
    "    matA_csr = A_coo.tocsr(); matB_csr = B_coo.tocsr()\n",
    "    C = A_csr + B_csr # answer using my implementation\n",
    "    C_scipy = sps.csr_matrix((matA_csr.toarray()+ matB_csr.toarray()))\n",
    "    dt, it, pt = C_scipy.data, C_scipy.indices, C_scipy.indptr # true answer using scipy\n",
    "    # print(len(d), len(i), len(p))\n",
    "    # print(len(dt), len(it), len(pt))\n",
    "    assert np.allclose(C.data, dt) and np.allclose(C.indices, it) and np.allclose(C.indptr, pt)\n",
    "print('__ADD__ METHOD TEST PASSED\\n')\n",
    "\n",
    "\n",
    "\n",
    "###################################################################################################################\n",
    "                                        # TESTING _matvec #\n",
    "###################################################################################################################\n",
    "for it in range(ntests):\n",
    "    m = np.random.randint(10,1000); n = np.random.randint(10,1000)\n",
    "    if it%5 ==0 :\n",
    "        print(f'iteration {it} \\n', f'm, n: {m}, {n}')\n",
    "    vector = np.random.randn(n, 1)\n",
    "    A = sps.random(m, n)\n",
    "    A_coo = sps.coo_matrix(A)\n",
    "    A_csr = CSRMatrix(A_coo)\n",
    "    result = A_csr._matvec(vector)\n",
    "    A_dense = A_coo.toarray()\n",
    "    assert np.allclose(A_dense @ vector, result)\n",
    "print('_matvec TEST PASSED')"
   ]
  },
  {
   "cell_type": "code",
   "execution_count": 4,
   "id": "fc4fa192",
   "metadata": {},
   "outputs": [
    {
     "name": "stdout",
     "output_type": "stream",
     "text": [
      "n 100\n",
      "n 2600\n",
      "n 5100\n",
      "n 7600\n",
      "n 10100\n",
      "n 12600\n",
      "n 15100\n"
     ]
    }
   ],
   "source": [
    "### timing _matvec ###\n",
    "\n",
    "ns = np.arange(100, 15101, 2500)\n",
    "ts_sparse = []\n",
    "ts_dense = []\n",
    "\n",
    "def f():\n",
    "    A_csr._matvec(vector)\n",
    "def g():\n",
    "    A_dense @ vector\n",
    "for n in ns:\n",
    "    print('n', n)\n",
    "    A = sps.random(n, n)\n",
    "    vector = np.random.randn(n, 1)\n",
    "    A_coo = sps.coo_matrix(A)\n",
    "    A_csr = CSRMatrix(A_coo)\n",
    "    A_dense = A_coo.toarray()\n",
    "    \n",
    "    ts_sparse.append(timeit(f, number=1))\n",
    "    ts_dense.append(timeit(g, number=1))"
   ]
  },
  {
   "cell_type": "code",
   "execution_count": 5,
   "id": "9be1cb88",
   "metadata": {
    "scrolled": true
   },
   "outputs": [
    {
     "data": {
      "image/png": "[encoded data removed]",
      "text/plain": [
       "<Figure size 432x288 with 1 Axes>"
      ]
     },
     "metadata": {
      "needs_background": "light"
     },
     "output_type": "display_data"
    }
   ],
   "source": [
    "plt.figure()\n",
    "plt.plot(ns, ts_sparse, label='sparse matvec')\n",
    "plt.plot(ns, ts_dense, label='dense matvec')\n",
    "plt.legend(loc='best')\n",
    "plt.xlabel('n')\n",
    "plt.ylabel('time')\n",
    "plt.title('matvec computation times for sparse/dense representations')\n",
    "plt.xscale(\"log\"); plt.yscale(\"log\")\n",
    "plt.show();"
   ]
  },
  {
   "cell_type": "markdown",
   "id": "2f364198",
   "metadata": {},
   "source": [
    "**Comments on sparse / dense matvec performance**\n",
    "\n",
    "The plot shows that the sparse matrix-vector computation is exponential in matrix size n, but the exponent of the growth is constant. The dense matrix-vector computation is also exponential in matrix size (initially with a smaller exponent than the sparse computation), but the the exponent appears to increase with n and I expect the dense matvec performance to be slower than the sparse representation for even higher n."
   ]
  },
  {
   "cell_type": "code",
   "execution_count": 6,
   "id": "3a89d04f",
   "metadata": {},
   "outputs": [
    {
     "name": "stdout",
     "output_type": "stream",
     "text": [
      "matrix size: 300 x 300\n"
     ]
    }
   ],
   "source": [
    "### generate a sparse positive-definite matrix that can be used by both GMRES and CG solvers ###\n",
    "\n",
    "n = 300\n",
    "Q, _ = np.linalg.qr(sps.random(n, n).todense()) # left matrix of a QR decomposition is guaranteed to be positive-definite\n",
    "D = np.diag(np.random.randn(n) + 5) # the shifted diagonal means that the eigenvalues aren't centred on 0\n",
    "A = Q.T @ D @ Q\n",
    "A_coo = sps.coo_matrix(A)\n",
    "b = np.random.randn(n, 1)\n",
    "A_csr = CSRMatrix(A_coo)\n",
    "print(f'matrix size: {n} x {n}')"
   ]
  },
  {
   "cell_type": "code",
   "execution_count": 7,
   "id": "c93cf951",
   "metadata": {},
   "outputs": [
    {
     "name": "stdout",
     "output_type": "stream",
     "text": [
      "Convergence? True\n"
     ]
    },
    {
     "data": {
      "image/png": "[encoded data removed]",
      "text/plain": [
       "<Figure size 432x288 with 1 Axes>"
      ]
     },
     "metadata": {
      "needs_background": "light"
     },
     "output_type": "display_data"
    }
   ],
   "source": [
    "callback = lambda res: residuals.append(res)\n",
    "residuals = []\n",
    "x_gmres, exitcode = gmres(A_csr, b, callback=callback, callback_type = 'pr_norm', tol=1e-08)\n",
    "print('Convergence?', exitcode==0)\n",
    "plt.figure()\n",
    "plt.plot(1 + np.arange(len(residuals)), residuals)\n",
    "plt.yscale(\"log\")\n",
    "plt.ylabel('residuals')\n",
    "plt.xlabel('iterations')\n",
    "plt.title('GMRES')\n",
    "plt.show()"
   ]
  },
  {
   "cell_type": "code",
   "execution_count": 8,
   "id": "ed09c36d",
   "metadata": {},
   "outputs": [
    {
     "name": "stdout",
     "output_type": "stream",
     "text": [
      "Convergence? True\n"
     ]
    },
    {
     "data": {
      "image/png": "[encoded data removed]",
      "text/plain": [
       "<Figure size 432x288 with 1 Axes>"
      ]
     },
     "metadata": {
      "needs_background": "light"
     },
     "output_type": "display_data"
    }
   ],
   "source": [
    "callback = lambda x: residuals.append(np.linalg.norm(b - A_csr._matvec(x)) / np.linalg.norm(b))\n",
    "residuals = []\n",
    "x_cg, exitcode = cg(A_csr, b, callback=callback, tol=1e-08)\n",
    "print('Convergence?', exitcode==0)\n",
    "plt.figure()\n",
    "plt.plot(1 + np.arange(len(residuals)), residuals)\n",
    "plt.yscale(\"log\")\n",
    "plt.xlabel('iterations')\n",
    "plt.ylabel('residuals')\n",
    "plt.title('CG')\n",
    "plt.show()"
   ]
  },
  {
   "cell_type": "code",
   "execution_count": 9,
   "id": "d1d88220",
   "metadata": {},
   "outputs": [
    {
     "name": "stdout",
     "output_type": "stream",
     "text": [
      "solutions are the same (within rtol=1e-05)\n"
     ]
    }
   ],
   "source": [
    "# compare the solutions\n",
    "if np.allclose(x_cg, x_gmres):\n",
    "    print('solutions are the same (within rtol=1e-05)')\n",
    "else:\n",
    "    print('solutions are not the same')"
   ]
  },
  {
   "cell_type": "markdown",
   "id": "6f77413b",
   "metadata": {},
   "source": [
    "**Comments on solutions**\n",
    "\n",
    "The solutions are the same because I have chosen a matrix that is easy to solve for both GMRES and CG. For example, if I had chosen a matrix with eigenvalues that were centred on zero then GMRES would have struggled to converge to the same solution as CG."
   ]
  },
  {
   "cell_type": "markdown",
   "id": "55a55ebc",
   "metadata": {},
   "source": [
    "## Part 2:\n",
    "\n",
    "A is a 2n by 2n matrix with the following structure:\n",
    "- The top left n x n block of A is a diagonal matrix\n",
    "- The top right n x n block of A is zero\n",
    "- The bottom left n x n block of A is zero\n",
    "- The bottom right n x n block of A is dense but can be written as B = TW, where shape(T) = (n, 2) and shape(W) = (2,n)\n",
    "\n",
    "In this section, I implement a Scipy LinearOperator for matrices of this form."
   ]
  },
  {
   "cell_type": "code",
   "execution_count": 10,
   "id": "127ec120",
   "metadata": {},
   "outputs": [],
   "source": [
    "def dense_blockmat(n):\n",
    "    '''\n",
    "    returns dense matrix representation of 2n x 2n block matrix A\n",
    "    '''\n",
    "    D = np.diag(np.random.randn(n)) # diagonal block\n",
    "    Z = np.zeros((n,n)) # zero blocks\n",
    "    T = np.random.randn(n, 2) # tall matrix\n",
    "    W = np.random.randn(2, n) # wide matrix\n",
    "    Atilde = T@W # dense block\n",
    "    return np.block([[D, Z], [Z, Atilde]])\n",
    "\n",
    "def data_blockmat(A):\n",
    "    '''\n",
    "    returns the non-zero elements of 2n x 2n block matrix A as a list\n",
    "    '''\n",
    "    return A.ravel()[np.flatnonzero(A)]"
   ]
  },
  {
   "cell_type": "code",
   "execution_count": 11,
   "id": "96a14569",
   "metadata": {},
   "outputs": [],
   "source": [
    "class BlockMat(LinearOperator):\n",
    "    def __init__(self, data):\n",
    "        self.data = data # the position of the data is already known, so we only need to store the data\n",
    "        # find n using the quadratic equation (since we know that n**2 + n = len(data))\n",
    "        self.n = int(-1/2 + np.sqrt(1 + 4*len(data))/2)\n",
    "        self.shape = (2*self.n, 2*self.n)\n",
    "        self.dtype = data.dtype\n",
    "        self.denseblock = np.array(self.data[self.n:]).reshape(self.n, self.n)\n",
    "    \n",
    "    def _matvec(self, vector):\n",
    "        \"\"\"Compute a matrix-vector product.\"\"\"\n",
    "        mv = np.zeros((self.shape[0]), dtype=np.float64)\n",
    "        mv[:self.n] = np.array(self.data[:self.n]) * np.array(vector[:self.n]).T # diagonal elements\n",
    "        mv[self.n:] = (self.denseblock @ vector[self.n:]).T # dense block elements Atilde\n",
    "        return mv.reshape(self.shape[0], 1)\n",
    "            "
   ]
  },
  {
   "cell_type": "code",
   "execution_count": 12,
   "id": "b634d1b2",
   "metadata": {},
   "outputs": [
    {
     "name": "stdout",
     "output_type": "stream",
     "text": [
      "test passed\n"
     ]
    }
   ],
   "source": [
    "### testing matvec ###\n",
    "n = 100\n",
    "A_dense = dense_blockmat(n)\n",
    "# print(A_dense)\n",
    "data = data_blockmat(A_dense)\n",
    "A = BlockMat(data)\n",
    "# print(A_dense @ vector, '\\n', A._matvec(vector))\n",
    "vector = np.random.rand(2*n, 1)\n",
    "assert np.allclose(A_dense @ vector, A._matvec(vector))\n",
    "print('test passed')"
   ]
  },
  {
   "cell_type": "code",
   "execution_count": 13,
   "id": "3ceef37c",
   "metadata": {},
   "outputs": [
    {
     "data": {
      "image/png": "[encoded data removed]",
      "text/plain": [
       "<Figure size 432x288 with 1 Axes>"
      ]
     },
     "metadata": {
      "needs_background": "light"
     },
     "output_type": "display_data"
    }
   ],
   "source": [
    "### timing matvec implementation ###\n",
    "def f():\n",
    "    A._matvec(vector)\n",
    "def g():\n",
    "    A_dense @ vector\n",
    "    \n",
    "ns = [100, 1000, 5000, 10000, 20000]\n",
    "ts_custom = []\n",
    "ts_numpy = []\n",
    "for n in ns:\n",
    "    vector = np.random.rand(2*n, 1)\n",
    "    A_dense = dense_blockmat(n) # numpy representation\n",
    "    data = data_blockmat(A_dense)\n",
    "    A = BlockMat(data)\n",
    "    ts_custom.append(timeit(f, number=1))\n",
    "    ts_numpy.append(timeit(g, number=1))\n",
    "    \n",
    "plt.figure()\n",
    "plt.plot(ns, ts_custom, label='custom rep')\n",
    "plt.plot(ns, ts_numpy, label='dense numpy rep')\n",
    "plt.legend(loc='best')\n",
    "plt.xlabel('n')\n",
    "plt.ylabel('time')\n",
    "plt.title('matvec computation times for custom/dense representations')\n",
    "plt.xscale(\"log\"); plt.yscale(\"log\")\n",
    "plt.show();"
   ]
  },
  {
   "cell_type": "markdown",
   "id": "a1ac7d8c",
   "metadata": {},
   "source": [
    "**Comments on performance**\n",
    "\n",
    "My implementation is faster than the dense numpy matvec product for all n. This is because my implementation multiplies two numpy arrays to compute the first n entries of the matvec product, and uses numpy matvec product for the last n entries. This has the benefit of using numpy throughout the computation while still reducing the total number of computations. "
   ]
  },
  {
   "cell_type": "code",
   "execution_count": null,
   "id": "ca7ede53",
   "metadata": {},
   "outputs": [],
   "source": []
  }
 ],
 "metadata": {
  "kernelspec": {
   "display_name": "Python 3",
   "language": "python",
   "name": "python3"
  },
  "language_info": {
   "codemirror_mode": {
    "name": "ipython",
    "version": 3
   },
   "file_extension": ".py",
   "mimetype": "text/x-python",
   "name": "python",
   "nbconvert_exporter": "python",
   "pygments_lexer": "ipython3",
   "version": "3.8.8"
  }
 },
 "nbformat": 4,
 "nbformat_minor": 5
}
